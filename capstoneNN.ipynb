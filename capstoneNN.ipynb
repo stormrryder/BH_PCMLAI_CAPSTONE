{
 "cells": [
  {
   "cell_type": "markdown",
   "id": "294b3cd9",
   "metadata": {},
   "source": [
    "# Import Libraries"
   ]
  },
  {
   "cell_type": "markdown",
   "id": "cd9cd99b",
   "metadata": {},
   "source": [
    "<font color=\"blue\">\n",
    "    <h4>Remove GPU from list of devices, our does not have enough memory.</h4>\n",
    "</font>"
   ]
  },
  {
   "cell_type": "code",
   "execution_count": 1,
   "id": "38ac32c9",
   "metadata": {},
   "outputs": [],
   "source": [
    "import os\n",
    "os.environ[ 'CUDA_VISIBLE_DEVICES' ] = '-1'"
   ]
  },
  {
   "cell_type": "markdown",
   "id": "ed295689",
   "metadata": {},
   "source": [
    "<font color=\"blue\">\n",
    "    <h4>Imports</h4>\n",
    "</font>"
   ]
  },
  {
   "cell_type": "code",
   "execution_count": 2,
   "id": "5a42b360",
   "metadata": {
    "scrolled": true
   },
   "outputs": [],
   "source": [
    "import matplotlib.pyplot as plt\n",
    "import numpy      as np\n",
    "import pandas     as pd\n",
    "import tensorflow as tf\n",
    "\n",
    "from sklearn import metrics\n",
    "from sklearn import utils"
   ]
  },
  {
   "cell_type": "code",
   "execution_count": 3,
   "id": "deca376f",
   "metadata": {},
   "outputs": [],
   "source": [
    "# PRINT F1-SCORES WITH 2 DIGITS\n",
    "pd.set_option('display.float_format', lambda x: '%.2f' % x)"
   ]
  },
  {
   "cell_type": "markdown",
   "id": "3123c642",
   "metadata": {},
   "source": [
    "<font color=\"blue\">\n",
    "    <h4>Confirm No GPU found</h4>\n",
    "</font>"
   ]
  },
  {
   "cell_type": "code",
   "execution_count": 4,
   "id": "ec9a4f51",
   "metadata": {},
   "outputs": [
    {
     "name": "stdout",
     "output_type": "stream",
     "text": [
      "[]\n"
     ]
    }
   ],
   "source": [
    "print( tf.config.list_physical_devices('GPU') )"
   ]
  },
  {
   "cell_type": "markdown",
   "id": "a0aaf4d8",
   "metadata": {},
   "source": [
    "# Restore Point"
   ]
  },
  {
   "cell_type": "code",
   "execution_count": 5,
   "id": "7b26d259",
   "metadata": {},
   "outputs": [],
   "source": [
    "# NUMERICAL FEATURES\n",
    "X_train = pd.read_pickle( 'data/X_train.pkl' )\n",
    "X_val   = pd.read_pickle( 'data/X_val.pkl' )\n",
    "X_test  = pd.read_pickle( 'data/X_test.pkl' )\n",
    "\n",
    "# TARGET\n",
    "y_train = pd.read_pickle( 'data/y_train.pkl' )\n",
    "y_val   = pd.read_pickle( 'data/y_val.pkl' )\n",
    "y_test  = pd.read_pickle( 'data/y_test.pkl' )"
   ]
  },
  {
   "cell_type": "code",
   "execution_count": 6,
   "id": "0246fb2f",
   "metadata": {},
   "outputs": [],
   "source": [
    "# BAGS OF WORDS\n",
    "counts = []\n",
    "counts.append( pd.read_pickle( 'data/counts_train.pkl' ) )\n",
    "counts.append( pd.read_pickle( 'data/counts_val.pkl' ) )\n",
    "counts.append( pd.read_pickle( 'data/counts_test.pkl' ) )"
   ]
  },
  {
   "cell_type": "code",
   "execution_count": 7,
   "id": "aaee1f24",
   "metadata": {},
   "outputs": [],
   "source": [
    "# WORD LEVEL TD-IDF\n",
    "word_tfidf = []\n",
    "word_tfidf.append( pd.read_pickle( 'data/word_train.pkl' ) )\n",
    "word_tfidf.append( pd.read_pickle( 'data/word_val.pkl' ) )\n",
    "word_tfidf.append( pd.read_pickle( 'data/word_test.pkl' ) )"
   ]
  },
  {
   "cell_type": "code",
   "execution_count": 8,
   "id": "49f7334b",
   "metadata": {},
   "outputs": [],
   "source": [
    "# N-GRAM LEVEL TD-IDF\n",
    "ngram_tfidf = []\n",
    "ngram_tfidf.append( pd.read_pickle( 'data/ngram_train.pkl' ) )\n",
    "ngram_tfidf.append( pd.read_pickle( 'data/ngram_val.pkl' ) )\n",
    "ngram_tfidf.append( pd.read_pickle( 'data/ngram_test.pkl' ) )"
   ]
  },
  {
   "cell_type": "code",
   "execution_count": 9,
   "id": "af5f387c",
   "metadata": {},
   "outputs": [],
   "source": [
    "# CHARACTER LEVEL TD-IDF\n",
    "char_tfidf = []\n",
    "char_tfidf.append( pd.read_pickle( 'data/char_train.pkl' ) )\n",
    "char_tfidf.append( pd.read_pickle( 'data/char_val.pkl' ) )\n",
    "char_tfidf.append( pd.read_pickle( 'data/char_test.pkl' ) )"
   ]
  },
  {
   "cell_type": "code",
   "execution_count": 10,
   "id": "ed489eb9",
   "metadata": {},
   "outputs": [],
   "source": [
    "# EMBEDDINGS\n",
    "embeddings_df = []\n",
    "embeddings_df.append( pd.read_pickle( 'data/embedding_train.pkl' ) )\n",
    "embeddings_df.append( pd.read_pickle( 'data/embedding_val.pkl' ) )\n",
    "embeddings_df.append( pd.read_pickle( 'data/embedding_test.pkl' ) )"
   ]
  },
  {
   "cell_type": "code",
   "execution_count": 11,
   "id": "f9ff65e7",
   "metadata": {},
   "outputs": [],
   "source": [
    "# CONVERT EMBEDDING DATAFRAME AS NUMPY ARRAYS\n",
    "embeddings = []\n",
    "col_text = [ 'summary', 'impact', 'description', 'ped' ]\n",
    "\n",
    "for df in embeddings_df:\n",
    "    \n",
    "    d = {}\n",
    "    \n",
    "    for c in col_text:\n",
    "        \n",
    "        d[ c ] = np.array( [ val for val in df[ c ].values ] )\n",
    "        \n",
    "    embeddings.append( d )\n",
    "\n",
    "del embeddings_df"
   ]
  },
  {
   "cell_type": "markdown",
   "id": "8782b154",
   "metadata": {},
   "source": [
    "# Modeling: Utilities"
   ]
  },
  {
   "cell_type": "markdown",
   "id": "de0212b2",
   "metadata": {},
   "source": [
    "<font color=\"blue\">\n",
    "    <h4>Class Weights</h4>\n",
    "    <li>Helps with target imbalance</li>\n",
    "</font>"
   ]
  },
  {
   "cell_type": "code",
   "execution_count": 12,
   "id": "368cb169",
   "metadata": {},
   "outputs": [],
   "source": [
    "weights = utils.class_weight.compute_class_weight( class_weight = 'balanced',\n",
    "                                                   classes = np.unique( y_train ),\n",
    "                                                    y = y_train )"
   ]
  },
  {
   "cell_type": "markdown",
   "id": "197d5169",
   "metadata": {},
   "source": [
    "<font color=\"blue\">\n",
    "    <h4>Decaying learning schedule</h4>\n",
    "    <li>Many models train better if you gradually reduce the learning rate during training</li>\n",
    "</font>"
   ]
  },
  {
   "cell_type": "code",
   "execution_count": 13,
   "id": "17dc3c36",
   "metadata": {},
   "outputs": [],
   "source": [
    "def lr_schedule( batch_size ):\n",
    "\n",
    "    steps_per_epoch = len( X_train ) / batch_size\n",
    "\n",
    "    return tf.keras.optimizers.schedules.InverseTimeDecay( initial_learning_rate = 0.001,\n",
    "                                                           decay_steps = steps_per_epoch * 5,\n",
    "                                                           decay_rate = 1,\n",
    "                                                           staircase = False )\n",
    "# TO VISUALISE LR SCHEDULE\n",
    "#step = np.linspace( 0, 2000 )\n",
    "#lr = lr_schedule( step )\n",
    "#plt.figure( figsize = (8,6) )\n",
    "#plt.plot( step / STEPS_PER_EPOCH, lr )\n",
    "#plt.ylim( [ 0, max( plt.ylim() ) ])\n",
    "#plt.xlabel( 'Epoch' )\n",
    "#_ = plt.ylabel( 'Learning Rate' )"
   ]
  },
  {
   "cell_type": "markdown",
   "id": "bde14f53",
   "metadata": {},
   "source": [
    "<font color=\"blue\">\n",
    "    <h4>Optimizer</h4>\n",
    "    <li>Use SGD because it is faster, did not observe improvements with others such as Adam, Nadam.</li>\n",
    "    <li>Use a decaying learning rate</li>\n",
    "</font>"
   ]
  },
  {
   "cell_type": "code",
   "execution_count": 14,
   "id": "f986a171",
   "metadata": {},
   "outputs": [],
   "source": [
    "def optimizer( schedule ):\n",
    "    \n",
    "    return tf.keras.optimizers.SGD( learning_rate = schedule )"
   ]
  },
  {
   "cell_type": "markdown",
   "id": "889bddee",
   "metadata": {},
   "source": [
    "<font color=\"blue\">\n",
    "    <h4>Visualize Learning Process</h4>\n",
    "</font>"
   ]
  },
  {
   "cell_type": "code",
   "execution_count": 15,
   "id": "0a42f7c3",
   "metadata": {},
   "outputs": [],
   "source": [
    "def plot_history( history ):\n",
    "    epoch_list = list( range( 1, len( history.history[ 'loss' ] ) + 1 ) )\n",
    "\n",
    "    plt.suptitle( 'Neural Network Performance' )\n",
    "\n",
    "    plt.plot( epoch_list, history.history[ 'loss' ], epoch_list, history.history[ 'val_loss' ] )\n",
    "    plt.legend( ( 'Training Loss', 'Validation Loss' ) )\n",
    "    plt.grid()\n",
    "\n",
    "    plt.show()"
   ]
  },
  {
   "cell_type": "markdown",
   "id": "29b1116d",
   "metadata": {},
   "source": [
    "<font color=\"blue\">\n",
    "    <h4>Complile, Fit and Evaluate Model</h4>\n",
    "</font>"
   ]
  },
  {
   "cell_type": "code",
   "execution_count": 16,
   "id": "87167cbe",
   "metadata": {},
   "outputs": [],
   "source": [
    "# COMMON MODEL EVALUATION METHOD\n",
    "def train_model( model, name, train_X, train_y, val_X, val_y, test_X, test_y, results,\n",
    "                 batch_size = 128, epochs = 10, verbose = 0 ):\n",
    "    \n",
    "    # COMPILE MODEL\n",
    "    \n",
    "\n",
    "    lr_schedule( batch_size = batch_size )\n",
    "\n",
    "    model.compile( optimizer = optimizer( lr_schedule( batch_size = batch_size ) ),\n",
    "                   loss = 'binary_crossentropy' )\n",
    "\n",
    "    # FIT WITH TRAIN DATA, USE VALIDATION DATA FOR CROSS-VALIDATION\n",
    "    history = model.fit( x = train_X,\n",
    "                         y = train_y,\n",
    "                         batch_size = batch_size,\n",
    "                         epochs = epochs,\n",
    "                         verbose = verbose,\n",
    "                         validation_data = ( val_X, val_y ),\n",
    "                         class_weight = { i: w for i, w in enumerate( weights ) } )\n",
    "    \n",
    "    # SAVE TRAINING SCORE\n",
    "    y_proba = model.predict( x = train_X,\n",
    "                             batch_size = batch_size,\n",
    "                             verbose = 0 )\n",
    "    y_preds = np.where( y_proba > 0.5, 1, 0 )\n",
    "    results[ 'Model'      ].append( name )\n",
    "    results[ 'Training'   ].append( metrics.f1_score( y_preds, train_y ) )\n",
    "    \n",
    "    # SAVE VALIDATION SCORE\n",
    "    y_proba = model.predict( x = val_X,\n",
    "                             batch_size = batch_size,\n",
    "                             verbose = 0 )\n",
    "    y_preds = np.where( y_proba > 0.5, 1, 0 )\n",
    "    results[ 'Validation'   ].append( metrics.f1_score( y_preds, val_y ) )\n",
    "    \n",
    "    # SAVE TESTING SCORE\n",
    "    y_proba = model.predict( x = test_X,\n",
    "                             batch_size = batch_size,\n",
    "                             verbose = 0 )\n",
    "    y_preds = np.where( y_proba > 0.5, 1, 0 )\n",
    "    results[ 'Testing'   ].append( metrics.f1_score( y_preds, test_y ) )\n",
    "    \n",
    "    return history"
   ]
  },
  {
   "cell_type": "markdown",
   "id": "670840dc",
   "metadata": {},
   "source": [
    "# Modeling: Flat Inputs\n",
    "- Bags of Words and TF-IDF"
   ]
  },
  {
   "cell_type": "code",
   "execution_count": 17,
   "id": "c44dfbec",
   "metadata": {},
   "outputs": [],
   "source": [
    "def make1D():\n",
    "    \n",
    "    model = tf.keras.Sequential()\n",
    "    \n",
    "    model.add( tf.keras.layers.Normalization() )\n",
    "    \n",
    "    model.add( tf.keras.layers.Dense( units = 500,\n",
    "                                      activation = 'relu' ) ) # kernel_regularizer = tf.keras.regularizers.L2( l2 = 0.04 )\n",
    "    \n",
    "    #model.add( tf.keras.layers.Dense( units = 500,\n",
    "    #                                  activation = 'relu' ) )\n",
    "    \n",
    "    model.add( tf.keras.layers.Dense( units = 1,\n",
    "                                      activation = 'sigmoid' ) )\n",
    "    \n",
    "    return model"
   ]
  },
  {
   "cell_type": "code",
   "execution_count": 18,
   "id": "a68da3c0",
   "metadata": {},
   "outputs": [
    {
     "name": "stdout",
     "output_type": "stream",
     "text": [
      ".\n",
      ".\n",
      ".\n",
      ".\n",
      "CPU times: total: 50.9 s\n",
      "Wall time: 8.34 s\n"
     ]
    },
    {
     "data": {
      "text/html": [
       "<div>\n",
       "<style scoped>\n",
       "    .dataframe tbody tr th:only-of-type {\n",
       "        vertical-align: middle;\n",
       "    }\n",
       "\n",
       "    .dataframe tbody tr th {\n",
       "        vertical-align: top;\n",
       "    }\n",
       "\n",
       "    .dataframe thead th {\n",
       "        text-align: right;\n",
       "    }\n",
       "</style>\n",
       "<table border=\"1\" class=\"dataframe\">\n",
       "  <thead>\n",
       "    <tr style=\"text-align: right;\">\n",
       "      <th></th>\n",
       "      <th>Model</th>\n",
       "      <th>Training</th>\n",
       "      <th>Validation</th>\n",
       "      <th>Testing</th>\n",
       "    </tr>\n",
       "  </thead>\n",
       "  <tbody>\n",
       "    <tr>\n",
       "      <th>0</th>\n",
       "      <td>NN 1D w/Bags Of Words</td>\n",
       "      <td>0.15</td>\n",
       "      <td>0.05</td>\n",
       "      <td>0.07</td>\n",
       "    </tr>\n",
       "    <tr>\n",
       "      <th>1</th>\n",
       "      <td>NN 1D w/Word TF-IDF</td>\n",
       "      <td>0.22</td>\n",
       "      <td>0.22</td>\n",
       "      <td>0.22</td>\n",
       "    </tr>\n",
       "    <tr>\n",
       "      <th>2</th>\n",
       "      <td>NN 1D w/N-Gram TF-IDF</td>\n",
       "      <td>0.24</td>\n",
       "      <td>0.15</td>\n",
       "      <td>0.17</td>\n",
       "    </tr>\n",
       "    <tr>\n",
       "      <th>3</th>\n",
       "      <td>NN 1D w/Char TF-IDF</td>\n",
       "      <td>0.17</td>\n",
       "      <td>0.09</td>\n",
       "      <td>0.07</td>\n",
       "    </tr>\n",
       "  </tbody>\n",
       "</table>\n",
       "</div>"
      ],
      "text/plain": [
       "                   Model  Training  Validation  Testing\n",
       "0  NN 1D w/Bags Of Words      0.15        0.05     0.07\n",
       "1    NN 1D w/Word TF-IDF      0.22        0.22     0.22\n",
       "2  NN 1D w/N-Gram TF-IDF      0.24        0.15     0.17\n",
       "3    NN 1D w/Char TF-IDF      0.17        0.09     0.07"
      ]
     },
     "execution_count": 18,
     "metadata": {},
     "output_type": "execute_result"
    }
   ],
   "source": [
    "%%time\n",
    "\n",
    "# ALL RESULTS DICTIONARY\n",
    "results = { 'Model':      [],\n",
    "            'Training':   [],\n",
    "            'Validation': [],\n",
    "            'Testing' :   [] }\n",
    "\n",
    "# WITH ON BAGS OF WORDS\n",
    "train_model( model = make1D(),\n",
    "             name = 'NN 1D w/Bags Of Words',\n",
    "             train_X = pd.concat( objs = [ X_train, counts[0] ], axis = 1 ),\n",
    "             train_y = y_train,\n",
    "             val_X = pd.concat( objs = [ X_val, counts[1] ], axis = 1 ),\n",
    "             val_y = y_val,\n",
    "             test_X = pd.concat( objs = [ X_test, counts[2] ], axis = 1 ),\n",
    "             test_y = y_test,\n",
    "             results = results )\n",
    "print( '.' )\n",
    "\n",
    "# WITH WORD LEVEL TF-IDF\n",
    "train_model( model = make1D(),\n",
    "             name = 'NN 1D w/Word TF-IDF',\n",
    "             train_X = pd.concat( objs = [ X_train, word_tfidf[0] ], axis = 1 ),\n",
    "             train_y = y_train,\n",
    "             val_X = pd.concat( objs = [ X_val, word_tfidf[1] ], axis = 1 ),\n",
    "             val_y = y_val,\n",
    "             test_X = pd.concat( objs = [ X_test, word_tfidf[2] ], axis = 1 ),\n",
    "             test_y = y_test,\n",
    "             results = results )\n",
    "print( '.' )\n",
    "\n",
    "# WITH N-GRAM LEVEL TF-IDF\n",
    "train_model( model = make1D(),\n",
    "             name = 'NN 1D w/N-Gram TF-IDF',\n",
    "             train_X = pd.concat( objs = [ X_train, ngram_tfidf[0] ], axis = 1 ),\n",
    "             train_y = y_train,\n",
    "             val_X = pd.concat( objs = [ X_val, ngram_tfidf[1] ], axis = 1 ),\n",
    "             val_y = y_val,\n",
    "             test_X = pd.concat( objs = [ X_test, ngram_tfidf[2] ], axis = 1 ),\n",
    "             test_y = y_test,\n",
    "             results = results )\n",
    "print( '.' )\n",
    "\n",
    "# WITH CHARACTER LEVEL TF-IDF\n",
    "train_model( model = make1D(),\n",
    "             name = 'NN 1D w/Char TF-IDF',\n",
    "             train_X = pd.concat( objs = [ X_train, char_tfidf[0] ], axis = 1 ),\n",
    "             train_y = y_train,\n",
    "             val_X = pd.concat( objs = [ X_val, char_tfidf[1] ], axis = 1 ),\n",
    "             val_y = y_val,\n",
    "             test_X = pd.concat( objs = [ X_test, char_tfidf[2] ], axis = 1 ),\n",
    "             test_y = y_test,\n",
    "             results = results )\n",
    "print( '.' )\n",
    "    \n",
    "pd.DataFrame( results )"
   ]
  },
  {
   "cell_type": "markdown",
   "id": "6c6582f0",
   "metadata": {},
   "source": [
    "# Modeling: 2D Embeddings Inputs (Flattened)"
   ]
  },
  {
   "cell_type": "code",
   "execution_count": 19,
   "id": "5abbbf72",
   "metadata": {},
   "outputs": [],
   "source": [
    "def make_flatten():\n",
    "    \n",
    "    # NODES FOR TEXT FEATURES\n",
    "    txt_model = []\n",
    "    for c in col_text:\n",
    "        \n",
    "        txt_input = tf.keras.layers.Input( shape = embeddings[0][c][0].shape )\n",
    "        \n",
    "        txt_flatten = tf.keras.layers.Flatten()( txt_input )\n",
    "    \n",
    "        txt_model.append( tf.keras.Model( inputs  = txt_input,\n",
    "                                          outputs = txt_flatten ) )\n",
    "        \n",
    "    # NODES FOR NUMERIC FEATURES\n",
    "    num_input = tf.keras.layers.Input( shape = ( len( X_train.columns ), ) )\n",
    "\n",
    "    # MERGE\n",
    "    l_merge = tf.keras.layers.concatenate( [ txt_model[0].output,\n",
    "                                             txt_model[1].output,\n",
    "                                             txt_model[2].output,\n",
    "                                             txt_model[3].output,\n",
    "                                             num_input ] )\n",
    "    \n",
    "    l_norm = tf.keras.layers.Normalization()( l_merge )\n",
    "    \n",
    "    l_dense = tf.keras.layers.Dense( units = 1000,\n",
    "                                    activation = 'relu' )( l_norm )\n",
    "    \n",
    "    l_dense = tf.keras.layers.Dense( units = 1000,\n",
    "                                    activation = 'relu' )( l_merge )\n",
    "    \n",
    "    l_output = tf.keras.layers.Dense( units = 1,\n",
    "                                      activation = 'sigmoid' )( l_dense )\n",
    "        \n",
    "    return tf.keras.Model( inputs = [ txt_model[0].input,\n",
    "                                      txt_model[1].input,\n",
    "                                      txt_model[2].input,\n",
    "                                      txt_model[3].input,\n",
    "                                      num_input ],\n",
    "                           outputs = [ l_output ] )"
   ]
  },
  {
   "cell_type": "code",
   "execution_count": 20,
   "id": "97c319ec",
   "metadata": {},
   "outputs": [
    {
     "name": "stdout",
     "output_type": "stream",
     "text": [
      "CPU times: total: 15 s\n",
      "Wall time: 2.03 s\n"
     ]
    }
   ],
   "source": [
    "%%time\n",
    "\n",
    "# ALL RESULTS DICTIONARY\n",
    "results = { 'Model':      [],\n",
    "            'Training':   [],\n",
    "            'Validation': [],\n",
    "            'Testing' :   [] }\n",
    "\n",
    "# WITH FLATTENED EMBEDDINGS\n",
    "history = train_model( model = make_flatten(),\n",
    "                       name = 'NN 1D w/Embeddings',\n",
    "                       train_X = [ embeddings[0]['summary'],\n",
    "                                   embeddings[0]['impact'],\n",
    "                                   embeddings[0]['description'],\n",
    "                                   embeddings[0]['ped'],\n",
    "                                   X_train ],\n",
    "                       train_y = y_train,\n",
    "                       val_X = [ embeddings[1]['summary'],\n",
    "                                 embeddings[1]['impact'],\n",
    "                                 embeddings[1]['description'],\n",
    "                                 embeddings[1]['ped'],\n",
    "                                 X_val ],\n",
    "                       val_y = y_val,\n",
    "                       test_X = [ embeddings[2]['summary'],\n",
    "                                  embeddings[2]['impact'],\n",
    "                                  embeddings[2]['description'],\n",
    "                                  embeddings[2]['ped'],\n",
    "                                  X_test ],\n",
    "                       test_y = y_test,\n",
    "                       results = results )"
   ]
  },
  {
   "cell_type": "code",
   "execution_count": 21,
   "id": "505389c2",
   "metadata": {},
   "outputs": [
    {
     "data": {
      "image/png": "[encoded data removed]",
      "text/plain": [
       "<Figure size 640x480 with 1 Axes>"
      ]
     },
     "metadata": {},
     "output_type": "display_data"
    }
   ],
   "source": [
    "plot_history( history )"
   ]
  },
  {
   "cell_type": "code",
   "execution_count": 22,
   "id": "84c6458c",
   "metadata": {},
   "outputs": [
    {
     "data": {
      "text/html": [
       "<div>\n",
       "<style scoped>\n",
       "    .dataframe tbody tr th:only-of-type {\n",
       "        vertical-align: middle;\n",
       "    }\n",
       "\n",
       "    .dataframe tbody tr th {\n",
       "        vertical-align: top;\n",
       "    }\n",
       "\n",
       "    .dataframe thead th {\n",
       "        text-align: right;\n",
       "    }\n",
       "</style>\n",
       "<table border=\"1\" class=\"dataframe\">\n",
       "  <thead>\n",
       "    <tr style=\"text-align: right;\">\n",
       "      <th></th>\n",
       "      <th>Model</th>\n",
       "      <th>Training</th>\n",
       "      <th>Validation</th>\n",
       "      <th>Testing</th>\n",
       "    </tr>\n",
       "  </thead>\n",
       "  <tbody>\n",
       "    <tr>\n",
       "      <th>0</th>\n",
       "      <td>NN 1D w/Embeddings</td>\n",
       "      <td>0.15</td>\n",
       "      <td>0.03</td>\n",
       "      <td>0.03</td>\n",
       "    </tr>\n",
       "  </tbody>\n",
       "</table>\n",
       "</div>"
      ],
      "text/plain": [
       "                Model  Training  Validation  Testing\n",
       "0  NN 1D w/Embeddings      0.15        0.03     0.03"
      ]
     },
     "execution_count": 22,
     "metadata": {},
     "output_type": "execute_result"
    }
   ],
   "source": [
    "pd.DataFrame( results )"
   ]
  },
  {
   "cell_type": "markdown",
   "id": "ef36add6",
   "metadata": {},
   "source": [
    "# Modeling: 2D Embeddings Inputs (CNN)"
   ]
  },
  {
   "cell_type": "code",
   "execution_count": 23,
   "id": "2bd718e2",
   "metadata": {},
   "outputs": [],
   "source": [
    "def make_cnn():\n",
    "    \n",
    "    # NODES FOR TEXT FEATURES\n",
    "    txt_model = []\n",
    "    for c in col_text:\n",
    "        \n",
    "        txt_input = tf.keras.layers.Input( shape = (embeddings[0][c][0].shape[0], embeddings[0][c][0].shape[1], 1) )\n",
    "        \n",
    "        txt_cnn = tf.keras.layers.Conv2D( filters = 32,\n",
    "                                          kernel_size = ( 3, 3 ),\n",
    "                                          padding = 'same',\n",
    "                                          activation = 'relu' )( txt_input )\n",
    "        \n",
    "        txt_pool = tf.keras.layers.MaxPooling2D()( txt_cnn )\n",
    "        \n",
    "        txt_flatten = tf.keras.layers.Flatten()( txt_pool )\n",
    "    \n",
    "        txt_model.append( tf.keras.Model( inputs  = txt_input,\n",
    "                                          outputs = txt_flatten ) )\n",
    "        \n",
    "    # NODES FOR NUMERIC FEATURES\n",
    "    num_input = tf.keras.layers.Input( shape = ( len( X_train.columns ), ) )\n",
    "\n",
    "    # MERGE\n",
    "    l_merge = tf.keras.layers.concatenate( [ txt_model[0].output,\n",
    "                                             txt_model[1].output,\n",
    "                                             txt_model[2].output,\n",
    "                                             txt_model[3].output,\n",
    "                                             num_input ] )\n",
    "    \n",
    "    l_norm = tf.keras.layers.Normalization()( l_merge )\n",
    "    \n",
    "    l_dense = tf.keras.layers.Dense( units = 1000,\n",
    "                                    activation = 'relu' )( l_norm )\n",
    "    \n",
    "    l_output = tf.keras.layers.Dense( units = 1,\n",
    "                                      activation = 'sigmoid' )( l_dense )\n",
    "        \n",
    "    return tf.keras.Model( inputs = [ txt_model[0].input,\n",
    "                                      txt_model[1].input,\n",
    "                                      txt_model[2].input,\n",
    "                                      txt_model[3].input,\n",
    "                                      num_input ],\n",
    "                           outputs = [ l_output ] )"
   ]
  },
  {
   "cell_type": "code",
   "execution_count": 24,
   "id": "e412c7d3",
   "metadata": {},
   "outputs": [
    {
     "name": "stdout",
     "output_type": "stream",
     "text": [
      "Model: \"model_9\"\n",
      "__________________________________________________________________________________________________\n",
      " Layer (type)                   Output Shape         Param #     Connected to                     \n",
      "==================================================================================================\n",
      " input_6 (InputLayer)           [(None, 2, 384, 1)]  0           []                               \n",
      "                                                                                                  \n",
      " input_7 (InputLayer)           [(None, 5, 384, 1)]  0           []                               \n",
      "                                                                                                  \n",
      " input_8 (InputLayer)           [(None, 18, 384, 1)  0           []                               \n",
      "                                ]                                                                 \n",
      "                                                                                                  \n",
      " input_9 (InputLayer)           [(None, 5, 384, 1)]  0           []                               \n",
      "                                                                                                  \n",
      " conv2d (Conv2D)                (None, 2, 384, 32)   320         ['input_6[0][0]']                \n",
      "                                                                                                  \n",
      " conv2d_1 (Conv2D)              (None, 5, 384, 32)   320         ['input_7[0][0]']                \n",
      "                                                                                                  \n",
      " conv2d_2 (Conv2D)              (None, 18, 384, 32)  320         ['input_8[0][0]']                \n",
      "                                                                                                  \n",
      " conv2d_3 (Conv2D)              (None, 5, 384, 32)   320         ['input_9[0][0]']                \n",
      "                                                                                                  \n",
      " max_pooling2d (MaxPooling2D)   (None, 1, 192, 32)   0           ['conv2d[0][0]']                 \n",
      "                                                                                                  \n",
      " max_pooling2d_1 (MaxPooling2D)  (None, 2, 192, 32)  0           ['conv2d_1[0][0]']               \n",
      "                                                                                                  \n",
      " max_pooling2d_2 (MaxPooling2D)  (None, 9, 192, 32)  0           ['conv2d_2[0][0]']               \n",
      "                                                                                                  \n",
      " max_pooling2d_3 (MaxPooling2D)  (None, 2, 192, 32)  0           ['conv2d_3[0][0]']               \n",
      "                                                                                                  \n",
      " flatten_4 (Flatten)            (None, 6144)         0           ['max_pooling2d[0][0]']          \n",
      "                                                                                                  \n",
      " flatten_5 (Flatten)            (None, 12288)        0           ['max_pooling2d_1[0][0]']        \n",
      "                                                                                                  \n",
      " flatten_6 (Flatten)            (None, 55296)        0           ['max_pooling2d_2[0][0]']        \n",
      "                                                                                                  \n",
      " flatten_7 (Flatten)            (None, 12288)        0           ['max_pooling2d_3[0][0]']        \n",
      "                                                                                                  \n",
      " input_10 (InputLayer)          [(None, 111)]        0           []                               \n",
      "                                                                                                  \n",
      " concatenate_1 (Concatenate)    (None, 86127)        0           ['flatten_4[0][0]',              \n",
      "                                                                  'flatten_5[0][0]',              \n",
      "                                                                  'flatten_6[0][0]',              \n",
      "                                                                  'flatten_7[0][0]',              \n",
      "                                                                  'input_10[0][0]']               \n",
      "                                                                                                  \n",
      " normalization_5 (Normalization  (None, 86127)       172255      ['concatenate_1[0][0]']          \n",
      " )                                                                                                \n",
      "                                                                                                  \n",
      " dense_11 (Dense)               (None, 1000)         86128000    ['normalization_5[0][0]']        \n",
      "                                                                                                  \n",
      " dense_12 (Dense)               (None, 1)            1001        ['dense_11[0][0]']               \n",
      "                                                                                                  \n",
      "==================================================================================================\n",
      "Total params: 86,302,536\n",
      "Trainable params: 86,130,281\n",
      "Non-trainable params: 172,255\n",
      "__________________________________________________________________________________________________\n"
     ]
    }
   ],
   "source": [
    "m = make_cnn()\n",
    "m.summary()"
   ]
  },
  {
   "cell_type": "code",
   "execution_count": 25,
   "id": "ef6d8810",
   "metadata": {},
   "outputs": [
    {
     "name": "stdout",
     "output_type": "stream",
     "text": [
      "Epoch 1/10\n",
      "3/3 [==============================] - 2s 483ms/step - loss: 97.0702 - val_loss: 0.4664\n",
      "Epoch 2/10\n",
      "3/3 [==============================] - 1s 464ms/step - loss: 0.7207 - val_loss: 1.1109\n",
      "Epoch 3/10\n",
      "3/3 [==============================] - 1s 450ms/step - loss: 0.7536 - val_loss: 0.8093\n",
      "Epoch 4/10\n",
      "3/3 [==============================] - 1s 475ms/step - loss: 0.6992 - val_loss: 0.7211\n",
      "Epoch 5/10\n",
      "3/3 [==============================] - 1s 433ms/step - loss: 0.6810 - val_loss: 0.7603\n",
      "Epoch 6/10\n",
      "3/3 [==============================] - 1s 453ms/step - loss: 0.6827 - val_loss: 0.6979\n",
      "Epoch 7/10\n",
      "3/3 [==============================] - 1s 450ms/step - loss: 0.6788 - val_loss: 0.6286\n",
      "Epoch 8/10\n",
      "3/3 [==============================] - 1s 462ms/step - loss: 0.6798 - val_loss: 0.7954\n",
      "Epoch 9/10\n",
      "3/3 [==============================] - 1s 448ms/step - loss: 0.6857 - val_loss: 0.7383\n",
      "Epoch 10/10\n",
      "3/3 [==============================] - 1s 438ms/step - loss: 0.6784 - val_loss: 0.7850\n",
      "CPU times: total: 3min 2s\n",
      "Wall time: 13.9 s\n"
     ]
    }
   ],
   "source": [
    "%%time\n",
    "\n",
    "# ALL RESULTS DICTIONARY\n",
    "results = { 'Model':      [],\n",
    "            'Training':   [],\n",
    "            'Validation': [],\n",
    "            'Testing' :   [] }\n",
    "\n",
    "# WITH FLATTENED EMBEDDINGS\n",
    "history = train_model( model = m,\n",
    "                       name = 'CNN w/Embeddings',\n",
    "                       train_X = [ embeddings[0]['summary'],\n",
    "                                   embeddings[0]['impact'],\n",
    "                                   embeddings[0]['description'],\n",
    "                                   embeddings[0]['ped'],\n",
    "                                   X_train ],\n",
    "                       train_y = y_train,\n",
    "                       val_X = [ embeddings[1]['summary'],\n",
    "                                 embeddings[1]['impact'],\n",
    "                                 embeddings[1]['description'],\n",
    "                                 embeddings[1]['ped'],\n",
    "                                 X_val ],\n",
    "                       val_y = y_val,\n",
    "                       test_X = [ embeddings[2]['summary'],\n",
    "                                  embeddings[2]['impact'],\n",
    "                                  embeddings[2]['description'],\n",
    "                                  embeddings[2]['ped'],\n",
    "                                  X_test ],\n",
    "                       test_y = y_test,\n",
    "                       results = results,\n",
    "                       batch_size = 128,\n",
    "                       epochs = 10,\n",
    "                       verbose = 1 )"
   ]
  },
  {
   "cell_type": "code",
   "execution_count": 26,
   "id": "5e2265d0",
   "metadata": {},
   "outputs": [
    {
     "data": {
      "image/png": "[encoded data removed]",
      "text/plain": [
       "<Figure size 640x480 with 1 Axes>"
      ]
     },
     "metadata": {},
     "output_type": "display_data"
    }
   ],
   "source": [
    "plot_history( history )"
   ]
  },
  {
   "cell_type": "code",
   "execution_count": 27,
   "id": "9dfa02ba",
   "metadata": {},
   "outputs": [
    {
     "data": {
      "text/html": [
       "<div>\n",
       "<style scoped>\n",
       "    .dataframe tbody tr th:only-of-type {\n",
       "        vertical-align: middle;\n",
       "    }\n",
       "\n",
       "    .dataframe tbody tr th {\n",
       "        vertical-align: top;\n",
       "    }\n",
       "\n",
       "    .dataframe thead th {\n",
       "        text-align: right;\n",
       "    }\n",
       "</style>\n",
       "<table border=\"1\" class=\"dataframe\">\n",
       "  <thead>\n",
       "    <tr style=\"text-align: right;\">\n",
       "      <th></th>\n",
       "      <th>Model</th>\n",
       "      <th>Training</th>\n",
       "      <th>Validation</th>\n",
       "      <th>Testing</th>\n",
       "    </tr>\n",
       "  </thead>\n",
       "  <tbody>\n",
       "    <tr>\n",
       "      <th>0</th>\n",
       "      <td>CNN w/Embeddings</td>\n",
       "      <td>0.24</td>\n",
       "      <td>0.21</td>\n",
       "      <td>0.21</td>\n",
       "    </tr>\n",
       "  </tbody>\n",
       "</table>\n",
       "</div>"
      ],
      "text/plain": [
       "              Model  Training  Validation  Testing\n",
       "0  CNN w/Embeddings      0.24        0.21     0.21"
      ]
     },
     "execution_count": 27,
     "metadata": {},
     "output_type": "execute_result"
    }
   ],
   "source": [
    "pd.DataFrame( results )"
   ]
  },
  {
   "cell_type": "markdown",
   "id": "cad110ab",
   "metadata": {},
   "source": [
    "# Modeling: 2D Embeddings Inputs (RNN)"
   ]
  },
  {
   "cell_type": "code",
   "execution_count": 60,
   "id": "35075046",
   "metadata": {},
   "outputs": [],
   "source": [
    "def make_rnn():\n",
    "    \n",
    "    # NODES FOR TEXT FEATURES\n",
    "    txt_model = []\n",
    "    for c in col_text:\n",
    "        \n",
    "        txt_input = tf.keras.layers.Input( shape = embeddings[0][c][0].shape )\n",
    "        \n",
    "        txt_lstm1 = tf.keras.layers.LSTM( units = 200,\n",
    "                                          return_sequences = False )( txt_input )\n",
    "        \n",
    "        #txt_lstm2 = tf.keras.layers.LSTM( units = 200,\n",
    "        #                                  return_sequences = False )( txt_lstm1 )\n",
    "    \n",
    "        txt_model.append( tf.keras.Model( inputs  = txt_input,\n",
    "                                          outputs = txt_lstm1 ) )\n",
    "        \n",
    "    # NODES FOR NUMERIC FEATURES\n",
    "    num_input = tf.keras.layers.Input( shape = ( len( X_train.columns ), ) )\n",
    "\n",
    "    # MERGE\n",
    "    l_merge = tf.keras.layers.concatenate( [ txt_model[0].output,\n",
    "                                             txt_model[1].output,\n",
    "                                             txt_model[2].output,\n",
    "                                             txt_model[3].output,\n",
    "                                             num_input ] )\n",
    "    \n",
    "    l_norm = tf.keras.layers.Normalization()( l_merge )\n",
    "    \n",
    "    l_dense = tf.keras.layers.Dense( units = 1000,\n",
    "                                    activation = 'relu' )( l_norm )\n",
    "    \n",
    "    l_output = tf.keras.layers.Dense( units = 1,\n",
    "                                      activation = 'sigmoid' )( l_dense )\n",
    "        \n",
    "    return tf.keras.Model( inputs = [ txt_model[0].input,\n",
    "                                      txt_model[1].input,\n",
    "                                      txt_model[2].input,\n",
    "                                      txt_model[3].input,\n",
    "                                      num_input ],\n",
    "                           outputs = [ l_output ] )"
   ]
  },
  {
   "cell_type": "code",
   "execution_count": 61,
   "id": "37e1ed1c",
   "metadata": {},
   "outputs": [
    {
     "name": "stdout",
     "output_type": "stream",
     "text": [
      "Model: \"model_33\"\n",
      "__________________________________________________________________________________________________\n",
      " Layer (type)                   Output Shape         Param #     Connected to                     \n",
      "==================================================================================================\n",
      " input_34 (InputLayer)          [(None, 2, 384)]     0           []                               \n",
      "                                                                                                  \n",
      " input_35 (InputLayer)          [(None, 5, 384)]     0           []                               \n",
      "                                                                                                  \n",
      " input_36 (InputLayer)          [(None, 18, 384)]    0           []                               \n",
      "                                                                                                  \n",
      " input_37 (InputLayer)          [(None, 5, 384)]     0           []                               \n",
      "                                                                                                  \n",
      " lstm_26 (LSTM)                 (None, 200)          468000      ['input_34[0][0]']               \n",
      "                                                                                                  \n",
      " lstm_27 (LSTM)                 (None, 200)          468000      ['input_35[0][0]']               \n",
      "                                                                                                  \n",
      " lstm_28 (LSTM)                 (None, 200)          468000      ['input_36[0][0]']               \n",
      "                                                                                                  \n",
      " lstm_29 (LSTM)                 (None, 200)          468000      ['input_37[0][0]']               \n",
      "                                                                                                  \n",
      " input_38 (InputLayer)          [(None, 111)]        0           []                               \n",
      "                                                                                                  \n",
      " concatenate_6 (Concatenate)    (None, 911)          0           ['lstm_26[0][0]',                \n",
      "                                                                  'lstm_27[0][0]',                \n",
      "                                                                  'lstm_28[0][0]',                \n",
      "                                                                  'lstm_29[0][0]',                \n",
      "                                                                  'input_38[0][0]']               \n",
      "                                                                                                  \n",
      " normalization_9 (Normalization  (None, 911)         1823        ['concatenate_6[0][0]']          \n",
      " )                                                                                                \n",
      "                                                                                                  \n",
      " dense_19 (Dense)               (None, 1000)         912000      ['normalization_9[0][0]']        \n",
      "                                                                                                  \n",
      " dense_20 (Dense)               (None, 1)            1001        ['dense_19[0][0]']               \n",
      "                                                                                                  \n",
      "==================================================================================================\n",
      "Total params: 2,786,824\n",
      "Trainable params: 2,785,001\n",
      "Non-trainable params: 1,823\n",
      "__________________________________________________________________________________________________\n"
     ]
    }
   ],
   "source": [
    "m = make_rnn()\n",
    "m.summary()"
   ]
  },
  {
   "cell_type": "code",
   "execution_count": 65,
   "id": "96582331",
   "metadata": {},
   "outputs": [
    {
     "name": "stdout",
     "output_type": "stream",
     "text": [
      "Epoch 1/20\n",
      "1/1 [==============================] - 4s 4s/step - loss: 3.4239 - val_loss: 96.8682\n",
      "Epoch 2/20\n",
      "1/1 [==============================] - 0s 369ms/step - loss: 58.6338 - val_loss: 14.4435\n",
      "Epoch 3/20\n",
      "1/1 [==============================] - 0s 370ms/step - loss: 8.8629 - val_loss: 3.3680\n",
      "Epoch 4/20\n",
      "1/1 [==============================] - 0s 355ms/step - loss: 13.6636 - val_loss: 4.8660\n",
      "Epoch 5/20\n",
      "1/1 [==============================] - 0s 354ms/step - loss: 3.0848 - val_loss: 2.3716\n",
      "Epoch 6/20\n",
      "1/1 [==============================] - 0s 380ms/step - loss: 9.4292 - val_loss: 2.0633\n",
      "Epoch 7/20\n",
      "1/1 [==============================] - 0s 370ms/step - loss: 1.4324 - val_loss: 1.3841\n",
      "Epoch 8/20\n",
      "1/1 [==============================] - 0s 360ms/step - loss: 5.3047 - val_loss: 3.7131\n",
      "Epoch 9/20\n",
      "1/1 [==============================] - 0s 379ms/step - loss: 2.3846 - val_loss: 1.1449\n",
      "Epoch 10/20\n",
      "1/1 [==============================] - 0s 370ms/step - loss: 4.2662 - val_loss: 2.8316\n",
      "Epoch 11/20\n",
      "1/1 [==============================] - 0s 378ms/step - loss: 1.8684 - val_loss: 0.8920\n",
      "Epoch 12/20\n",
      "1/1 [==============================] - 0s 365ms/step - loss: 3.1664 - val_loss: 2.8962\n",
      "Epoch 13/20\n",
      "1/1 [==============================] - 0s 360ms/step - loss: 1.9065 - val_loss: 0.7207\n",
      "Epoch 14/20\n",
      "1/1 [==============================] - 0s 385ms/step - loss: 2.3987 - val_loss: 2.8908\n",
      "Epoch 15/20\n",
      "1/1 [==============================] - 0s 358ms/step - loss: 1.9043 - val_loss: 0.6049\n",
      "Epoch 16/20\n",
      "1/1 [==============================] - 0s 389ms/step - loss: 1.8439 - val_loss: 2.7821\n",
      "Epoch 17/20\n",
      "1/1 [==============================] - 0s 448ms/step - loss: 1.8410 - val_loss: 0.5377\n",
      "Epoch 18/20\n",
      "1/1 [==============================] - 0s 427ms/step - loss: 1.4631 - val_loss: 2.4648\n",
      "Epoch 19/20\n",
      "1/1 [==============================] - 0s 454ms/step - loss: 1.6553 - val_loss: 0.5093\n",
      "Epoch 20/20\n",
      "1/1 [==============================] - 0s 428ms/step - loss: 1.2386 - val_loss: 2.0112\n",
      "CPU times: total: 1min\n",
      "Wall time: 13.3 s\n"
     ]
    }
   ],
   "source": [
    "%%time\n",
    "\n",
    "# ALL RESULTS DICTIONARY\n",
    "results = { 'Model':      [],\n",
    "            'Training':   [],\n",
    "            'Validation': [],\n",
    "            'Testing' :   [] }\n",
    "\n",
    "# WITH FLATTENED EMBEDDINGS\n",
    "history = train_model( model = m,\n",
    "                       name = 'RNN w/Embeddings',\n",
    "                       train_X = [ embeddings[0]['summary'],\n",
    "                                   embeddings[0]['impact'],\n",
    "                                   embeddings[0]['description'],\n",
    "                                   embeddings[0]['ped'],\n",
    "                                   X_train ],\n",
    "                       train_y = y_train,\n",
    "                       val_X = [ embeddings[1]['summary'],\n",
    "                                 embeddings[1]['impact'],\n",
    "                                 embeddings[1]['description'],\n",
    "                                 embeddings[1]['ped'],\n",
    "                                 X_val ],\n",
    "                       val_y = y_val,\n",
    "                       test_X = [ embeddings[2]['summary'],\n",
    "                                  embeddings[2]['impact'],\n",
    "                                  embeddings[2]['description'],\n",
    "                                  embeddings[2]['ped'],\n",
    "                                  X_test ],\n",
    "                       test_y = y_test,\n",
    "                       results = results,\n",
    "                       batch_size = 512,\n",
    "                       epochs = 20,\n",
    "                       verbose = 1 )"
   ]
  },
  {
   "cell_type": "code",
   "execution_count": 66,
   "id": "7945af68",
   "metadata": {},
   "outputs": [
    {
     "data": {
      "image/png": "[encoded data removed]",
      "text/plain": [
       "<Figure size 640x480 with 1 Axes>"
      ]
     },
     "metadata": {},
     "output_type": "display_data"
    }
   ],
   "source": [
    "plot_history( history )"
   ]
  },
  {
   "cell_type": "code",
   "execution_count": 67,
   "id": "6de5abb3",
   "metadata": {},
   "outputs": [
    {
     "data": {
      "text/html": [
       "<div>\n",
       "<style scoped>\n",
       "    .dataframe tbody tr th:only-of-type {\n",
       "        vertical-align: middle;\n",
       "    }\n",
       "\n",
       "    .dataframe tbody tr th {\n",
       "        vertical-align: top;\n",
       "    }\n",
       "\n",
       "    .dataframe thead th {\n",
       "        text-align: right;\n",
       "    }\n",
       "</style>\n",
       "<table border=\"1\" class=\"dataframe\">\n",
       "  <thead>\n",
       "    <tr style=\"text-align: right;\">\n",
       "      <th></th>\n",
       "      <th>Model</th>\n",
       "      <th>Training</th>\n",
       "      <th>Validation</th>\n",
       "      <th>Testing</th>\n",
       "    </tr>\n",
       "  </thead>\n",
       "  <tbody>\n",
       "    <tr>\n",
       "      <th>0</th>\n",
       "      <td>RNN w/Embeddings</td>\n",
       "      <td>0.24</td>\n",
       "      <td>0.22</td>\n",
       "      <td>0.22</td>\n",
       "    </tr>\n",
       "  </tbody>\n",
       "</table>\n",
       "</div>"
      ],
      "text/plain": [
       "              Model  Training  Validation  Testing\n",
       "0  RNN w/Embeddings      0.24        0.22     0.22"
      ]
     },
     "execution_count": 67,
     "metadata": {},
     "output_type": "execute_result"
    }
   ],
   "source": [
    "pd.DataFrame( results )"
   ]
  },
  {
   "cell_type": "code",
   "execution_count": null,
   "id": "2d2c0643",
   "metadata": {},
   "outputs": [],
   "source": []
  }
 ],
 "metadata": {
  "kernelspec": {
   "display_name": "Python 3 (ipykernel)",
   "language": "python",
   "name": "python3"
  },
  "language_info": {
   "codemirror_mode": {
    "name": "ipython",
    "version": 3
   },
   "file_extension": ".py",
   "mimetype": "text/x-python",
   "name": "python",
   "nbconvert_exporter": "python",
   "pygments_lexer": "ipython3",
   "version": "3.11.3"
  }
 },
 "nbformat": 4,
 "nbformat_minor": 5
}
